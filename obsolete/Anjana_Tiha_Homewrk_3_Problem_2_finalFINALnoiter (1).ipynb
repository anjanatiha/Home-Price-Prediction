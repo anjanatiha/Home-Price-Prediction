{
 "cells": [
  {
   "cell_type": "code",
   "execution_count": 10,
   "metadata": {
    "collapsed": false
   },
   "outputs": [
    {
     "name": "stdout",
     "output_type": "stream",
     "text": [
      "----------------------------------------------------------------------------------------------------------------\n",
      "                                  Mean Squared Error\n",
      "----------------------------------------------------------------------------------------------------------------\n",
      "Lasso alpha(Default): 25.2295013515\n",
      "Lasso  alpha = 0.3  :  21.8144859331\n",
      "Lasso  alpha = 0.03  :  20.7840861148\n",
      "Lasso  alpha = 0.5  :  22.3296199764\n",
      "Lasso  alpha = 0.08  :  21.3578583361\n",
      "Ridge alpha(Default): 20.6945730751\n",
      "Ridge  alpha = 0.08  :  21.1097307892\n",
      "Ridge  alpha = 0.1  :  21.0837213066\n",
      "Ridge  alpha = 0.5  :  20.7940514328\n",
      "Ridge  alpha = 0.1  :  21.0837213066\n"
     ]
    }
   ],
   "source": [
    "from sklearn.datasets import load_boston\n",
    "from sklearn.cross_validation import train_test_split\n",
    "from sklearn import linear_model\n",
    "from sklearn.metrics import mean_squared_error\n",
    "import numpy as np\n",
    "import random\n",
    "\n",
    "\n",
    "    \n",
    "boston = load_boston()\n",
    "boston_train_X, boston_test_X, boston_train_Y, boston_test_Y = train_test_split(boston.data, boston.target, train_size=.75)\n",
    "\n",
    "def regression_model(regr_model, alpha_val, regr_model_name):\n",
    "    if alpha_val != -1:\n",
    "        regr_model.set_params(alpha = alpha_val)\n",
    "    \n",
    "    regr_model.fit(boston_train_X, boston_train_Y)\n",
    "    \n",
    "    regr_model_predict = regr_model.predict(boston_test_X)\n",
    "\n",
    "    mean_squared_error_value = mean_squared_error(boston_test_Y, regr_model_predict)\n",
    "    if alpha_val != -1:\n",
    "        print(regr_model_name,\" alpha =\", alpha_val,\" : \", mean_squared_error_value)\n",
    "    else:\n",
    "        print(regr_model_name,\"alpha(Default):\", mean_squared_error_value)\n",
    "\n",
    "    \n",
    "    \n",
    "\n",
    "regr_lasso = linear_model.Lasso()\n",
    "regr_ridge = linear_model.Ridge()\n",
    "\n",
    "      \n",
    "print(\"----------------------------------------------------------------------------------------------------------------\")\n",
    "print(\"                                  Mean Squared Error\")\n",
    "print(\"----------------------------------------------------------------------------------------------------------------\")\n",
    "regression_model(regr_lasso, -1, \"Lasso\")\n",
    "regression_model(regr_lasso, 0.3, \"Lasso\")\n",
    "regression_model(regr_lasso, 0.03,\"Lasso\")\n",
    "regression_model(regr_lasso, 0.5, \"Lasso\")\n",
    "regression_model(regr_lasso, 0.08,\"Lasso\")\n",
    "\n",
    "regression_model(regr_ridge, -1,\"Ridge\")\n",
    "regression_model(regr_ridge, 0.08,\"Ridge\")\n",
    "regression_model(regr_ridge, 0.1,\"Ridge\")\n",
    "regression_model(regr_ridge, 0.5,\"Ridge\")\n",
    "regression_model(regr_ridge, .1,\"Ridge\")\n",
    "\n",
    "\n",
    "      \n"
   ]
  },
  {
   "cell_type": "code",
   "execution_count": null,
   "metadata": {
    "collapsed": true
   },
   "outputs": [],
   "source": []
  },
  {
   "cell_type": "code",
   "execution_count": null,
   "metadata": {
    "collapsed": true
   },
   "outputs": [],
   "source": []
  },
  {
   "cell_type": "code",
   "execution_count": null,
   "metadata": {
    "collapsed": true
   },
   "outputs": [],
   "source": []
  },
  {
   "cell_type": "code",
   "execution_count": null,
   "metadata": {
    "collapsed": true
   },
   "outputs": [],
   "source": []
  },
  {
   "cell_type": "code",
   "execution_count": null,
   "metadata": {
    "collapsed": true
   },
   "outputs": [],
   "source": []
  }
 ],
 "metadata": {
  "anaconda-cloud": {},
  "kernelspec": {
   "display_name": "Python [conda root]",
   "language": "python",
   "name": "conda-root-py"
  },
  "language_info": {
   "codemirror_mode": {
    "name": "ipython",
    "version": 3
   },
   "file_extension": ".py",
   "mimetype": "text/x-python",
   "name": "python",
   "nbconvert_exporter": "python",
   "pygments_lexer": "ipython3",
   "version": "3.5.2"
  }
 },
 "nbformat": 4,
 "nbformat_minor": 1
}
