{
 "cells": [
  {
   "cell_type": "code",
   "execution_count": 27,
   "metadata": {
    "collapsed": false
   },
   "outputs": [
    {
     "name": "stdout",
     "output_type": "stream",
     "text": [
      "----------------------------------------------------------------------------------------------------------------\n",
      "                                  Mean Squared Error\n",
      "----------------------------------------------------------------------------------------------------------------\n",
      "Lasso alpha(Default): 23.8736730251\n",
      "Lasso  alpha = 0.0001  :  17.234751673\n",
      "Lasso  alpha = 0.0051  :  17.1966122086\n",
      "Lasso  alpha = 0.0005  :  17.2309123336\n",
      "Lasso  alpha = 0.008  :  17.1843023309\n",
      "Lasso  alpha = 0.01  :  17.1800084572\n",
      "----------------------------------------------------------------------------------------------------------------\n",
      "Ridge alpha(Default): 17.2884049076\n",
      "Ridge  alpha = 0.0001  :  17.2356923202\n",
      "Ridge  alpha = 0.05  :  17.2184725985\n",
      "Ridge  alpha = 0.3  :  17.1926559054\n",
      "Ridge  alpha = 0.33  :  17.1937703729\n",
      "Ridge  alpha = 0.22  :  17.1930368018\n",
      "Ridge  alpha = 0.02  :  17.2281266585\n",
      "Ridge  alpha = 0.0015  :  17.2351274997\n"
     ]
    }
   ],
   "source": [
    "from sklearn.datasets import load_boston\n",
    "from sklearn.cross_validation import train_test_split\n",
    "from sklearn import linear_model\n",
    "from sklearn.metrics import mean_squared_error\n",
    "import numpy as np\n",
    "import random\n",
    "\n",
    "\n",
    "    \n",
    "boston = load_boston()\n",
    "boston_train_X, boston_test_X, boston_train_Y, boston_test_Y = train_test_split(boston.data, boston.target, train_size=.75)\n",
    "\n",
    "def regression_model(regr_model, alpha_val, regr_model_name):\n",
    "    if alpha_val != -1:\n",
    "        regr_model.set_params(alpha = alpha_val)\n",
    "    \n",
    "    regr_model.fit(boston_train_X, boston_train_Y)\n",
    "    \n",
    "    regr_model_predict = regr_model.predict(boston_test_X)\n",
    "\n",
    "    mean_squared_error_value = mean_squared_error(boston_test_Y, regr_model_predict)\n",
    "    if alpha_val != -1:\n",
    "        print(regr_model_name,\" alpha =\", alpha_val,\" : \", mean_squared_error_value)\n",
    "    else:\n",
    "        print(regr_model_name,\"alpha(Default):\", mean_squared_error_value)\n",
    "\n",
    "    \n",
    "    \n",
    "\n",
    "regr_lasso = linear_model.Lasso()\n",
    "regr_ridge = linear_model.Ridge()\n",
    "\n",
    "alpha_val_lasso = [0.0001, 0.0051, 0.0005, 0.008, 0.01]\n",
    "alpha_val_ridge = [0.0001, 0.05, 0.3, 0.33, 0.22, 0.02, 0.0015]\n",
    "      \n",
    "print(\"----------------------------------------------------------------------------------------------------------------\")\n",
    "print(\"                                  Mean Squared Error\")\n",
    "print(\"----------------------------------------------------------------------------------------------------------------\")\n",
    "regression_model(regr_lasso, -1, \"Lasso\")     \n",
    "for i in alpha_val_lasso:\n",
    "    regression_model(regr_lasso, i, \"Lasso\")\n",
    "print(\"----------------------------------------------------------------------------------------------------------------\")    \n",
    "regression_model(regr_ridge, -1, \"Ridge\")\n",
    "for i in alpha_val_ridge:\n",
    "    regression_model(regr_ridge, i, \"Ridge\")   \n",
    "\n",
    "      \n"
   ]
  },
  {
   "cell_type": "code",
   "execution_count": null,
   "metadata": {
    "collapsed": true
   },
   "outputs": [],
   "source": []
  },
  {
   "cell_type": "code",
   "execution_count": null,
   "metadata": {
    "collapsed": true
   },
   "outputs": [],
   "source": []
  },
  {
   "cell_type": "code",
   "execution_count": null,
   "metadata": {
    "collapsed": true
   },
   "outputs": [],
   "source": []
  },
  {
   "cell_type": "code",
   "execution_count": null,
   "metadata": {
    "collapsed": true
   },
   "outputs": [],
   "source": []
  },
  {
   "cell_type": "code",
   "execution_count": null,
   "metadata": {
    "collapsed": true
   },
   "outputs": [],
   "source": []
  }
 ],
 "metadata": {
  "anaconda-cloud": {},
  "kernelspec": {
   "display_name": "Python [conda root]",
   "language": "python",
   "name": "conda-root-py"
  },
  "language_info": {
   "codemirror_mode": {
    "name": "ipython",
    "version": 3
   },
   "file_extension": ".py",
   "mimetype": "text/x-python",
   "name": "python",
   "nbconvert_exporter": "python",
   "pygments_lexer": "ipython3",
   "version": "3.5.2"
  }
 },
 "nbformat": 4,
 "nbformat_minor": 1
}
