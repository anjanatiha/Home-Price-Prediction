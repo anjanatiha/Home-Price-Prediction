{
 "cells": [
  {
   "cell_type": "code",
   "execution_count": 29,
   "metadata": {
    "collapsed": false
   },
   "outputs": [
    {
     "name": "stdout",
     "output_type": "stream",
     "text": [
      "----------------------------------------------------------------------------------------------------------------\n",
      "                                  Mean Squared Error\n",
      "----------------------------------------------------------------------------------------------------------------\n",
      "Lasso alpha(Default): 25.2577870083\n",
      "Lasso  alpha = 0.003  :  22.8081272237\n",
      "Lasso  alpha = 0.004  :  22.8125838835\n",
      "Lasso  alpha = 0.0001  :  22.7997764308\n",
      "Lasso  alpha = 0.08  :  24.2332018787\n",
      "Lasso  alpha = 0.58  :  24.03381652\n",
      "Lasso  alpha = 0.88  :  24.78059374\n",
      "Ridge alpha(Default): 22.8789189068\n",
      "Ridge  alpha = 0.08  :  22.7808806932\n",
      "Ridge  alpha = 0.1  :  22.7779686486\n",
      "Ridge  alpha = 0.5  :  22.7956856462\n",
      "Ridge  alpha = 0.0081  :  22.7971210968\n",
      "Ridge  alpha = 0.851  :  22.8531131971\n",
      "Ridge  alpha = 0.31  :  22.7747487197\n"
     ]
    }
   ],
   "source": [
    "from sklearn.datasets import load_boston\n",
    "from sklearn.cross_validation import train_test_split\n",
    "from sklearn import linear_model\n",
    "from sklearn.metrics import mean_squared_error\n",
    "import numpy as np\n",
    "import random\n",
    "\n",
    "\n",
    "    \n",
    "boston = load_boston()\n",
    "boston_train_X, boston_test_X, boston_train_Y, boston_test_Y = train_test_split(boston.data, boston.target, train_size=.75)\n",
    "\n",
    "def regression_model(regr_model, alpha_val, regr_model_name):\n",
    "    if alpha_val != -1:\n",
    "        regr_model.set_params(alpha = alpha_val)\n",
    "    \n",
    "    regr_model.fit(boston_train_X, boston_train_Y)\n",
    "    \n",
    "    regr_model_predict = regr_model.predict(boston_test_X)\n",
    "\n",
    "    mean_squared_error_value = mean_squared_error(boston_test_Y, regr_model_predict)\n",
    "    if alpha_val != -1:\n",
    "        print(regr_model_name,\" alpha =\", alpha_val,\" : \", mean_squared_error_value)\n",
    "    else:\n",
    "        print(regr_model_name,\"alpha(Default):\", mean_squared_error_value)\n",
    "\n",
    "    \n",
    "    \n",
    "\n",
    "regr_lasso1 = linear_model.Lasso()\n",
    "regr_lasso2 = linear_model.Lasso()\n",
    "regr_lasso3 = linear_model.Lasso()\n",
    "regr_lasso4 = linear_model.Lasso()\n",
    "regr_lasso5 = linear_model.Lasso()\n",
    "regr_lasso6 = linear_model.Lasso()\n",
    "regr_lasso7 = linear_model.Lasso()\n",
    "regr_ridge1 = linear_model.Ridge()\n",
    "regr_ridge2 = linear_model.Ridge()\n",
    "regr_ridge3 = linear_model.Ridge()\n",
    "regr_ridge4 = linear_model.Ridge()\n",
    "regr_ridge5 = linear_model.Ridge()\n",
    "regr_ridge6 = linear_model.Ridge()\n",
    "regr_ridge7 = linear_model.Ridge()\n",
    "\n",
    "      \n",
    "print(\"----------------------------------------------------------------------------------------------------------------\")\n",
    "print(\"                                  Mean Squared Error\")\n",
    "print(\"----------------------------------------------------------------------------------------------------------------\")\n",
    "regression_model(regr_lasso1, -1, \"Lasso\")\n",
    "regression_model(regr_lasso2, 0.003, \"Lasso\")\n",
    "regression_model(regr_lasso3, 0.004,\"Lasso\")\n",
    "regression_model(regr_lasso4, 0.0001, \"Lasso\")\n",
    "regression_model(regr_lasso5, 0.08,\"Lasso\")\n",
    "regression_model(regr_lasso6, 0.58,\"Lasso\")\n",
    "regression_model(regr_lasso7, 0.88,\"Lasso\")\n",
    "\n",
    "\n",
    "regression_model(regr_ridge1, -1,\"Ridge\")\n",
    "regression_model(regr_ridge2, 0.08,\"Ridge\")\n",
    "regression_model(regr_ridge3, 0.1,\"Ridge\")\n",
    "regression_model(regr_ridge4, 0.5,\"Ridge\")\n",
    "regression_model(regr_ridge5, 0.0081,\"Ridge\")\n",
    "regression_model(regr_ridge6, 0.851,\"Ridge\")\n",
    "regression_model(regr_ridge7, 0.31,\"Ridge\")\n",
    "\n",
    "\n",
    "      \n"
   ]
  },
  {
   "cell_type": "code",
   "execution_count": null,
   "metadata": {
    "collapsed": true
   },
   "outputs": [],
   "source": []
  },
  {
   "cell_type": "code",
   "execution_count": null,
   "metadata": {
    "collapsed": true
   },
   "outputs": [],
   "source": []
  },
  {
   "cell_type": "code",
   "execution_count": null,
   "metadata": {
    "collapsed": true
   },
   "outputs": [],
   "source": []
  },
  {
   "cell_type": "code",
   "execution_count": null,
   "metadata": {
    "collapsed": true
   },
   "outputs": [],
   "source": []
  },
  {
   "cell_type": "code",
   "execution_count": null,
   "metadata": {
    "collapsed": true
   },
   "outputs": [],
   "source": []
  }
 ],
 "metadata": {
  "anaconda-cloud": {},
  "kernelspec": {
   "display_name": "Python [conda root]",
   "language": "python",
   "name": "conda-root-py"
  },
  "language_info": {
   "codemirror_mode": {
    "name": "ipython",
    "version": 3
   },
   "file_extension": ".py",
   "mimetype": "text/x-python",
   "name": "python",
   "nbconvert_exporter": "python",
   "pygments_lexer": "ipython3",
   "version": "3.5.2"
  }
 },
 "nbformat": 4,
 "nbformat_minor": 1
}
